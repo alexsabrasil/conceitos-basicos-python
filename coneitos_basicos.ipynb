{
  "nbformat": 4,
  "nbformat_minor": 0,
  "metadata": {
    "colab": {
      "provenance": [],
      "authorship_tag": "ABX9TyOovFn2qreVOhqdhDYQ9YGX",
      "include_colab_link": true
    },
    "kernelspec": {
      "name": "python3",
      "display_name": "Python 3"
    },
    "language_info": {
      "name": "python"
    }
  },
  "cells": [
    {
      "cell_type": "markdown",
      "metadata": {
        "id": "view-in-github",
        "colab_type": "text"
      },
      "source": [
        "<a href=\"https://colab.research.google.com/github/alexsabrasil/conceitos-basicos-python/blob/main/coneitos_basicos.ipynb\" target=\"_parent\"><img src=\"https://colab.research.google.com/assets/colab-badge.svg\" alt=\"Open In Colab\"/></a>"
      ]
    },
    {
      "cell_type": "markdown",
      "source": [
        "**Exercícios - Conceitos básicos de Python: Programa de Operações Matemáticas**\n",
        "\n",
        "1. Faça um Programa que peça dois números, realize as principais operações  soma, subtração, multiplicação, divisão"
      ],
      "metadata": {
        "id": "m9mNUlt3IGey"
      }
    },
    {
      "cell_type": "code",
      "source": [
        "# Solicitar dois números ao usuário\n",
        "num1 = float(input(\"Digite o primeiro número: \"))\n",
        "num2 = float(input(\"Digite o segundo número: \"))\n",
        "\n",
        "# Realizar as operações\n",
        "soma = num1 + num2\n",
        "subtracao = num1 - num2\n",
        "multiplicacao = num1 * num2\n",
        "divisao = num1 / num2 if num2 != 0 else \"Indefinido (divisão por zero)\"\n",
        "\n",
        "# Mostrar os resultados\n",
        "print(f\"Soma: {soma}\")\n",
        "print(f\"Subtração: {subtracao}\")\n",
        "print(f\"Multiplicação: {multiplicacao}\")\n",
        "print(f\"Divisão: {divisao}\")\n"
      ],
      "metadata": {
        "colab": {
          "base_uri": "https://localhost:8080/"
        },
        "id": "6SsjBFdRJGKG",
        "outputId": "4914f3a6-c89a-4bdb-98d5-0b57202044ce"
      },
      "execution_count": 5,
      "outputs": [
        {
          "output_type": "stream",
          "name": "stdout",
          "text": [
            "Digite o primeiro número: 25\n",
            "Digite o segundo número: 5\n",
            "Soma: 30.0\n",
            "Subtração: 20.0\n",
            "Multiplicação: 125.0\n",
            "Divisão: 5.0\n"
          ]
        }
      ]
    },
    {
      "cell_type": "markdown",
      "source": [
        "**Exercícios - Conceitos básicos de Python: Programa de Cálculo de idade**\n",
        "\n",
        "2. Peça ao usuário para informar o ano de nascimento. Em seguida, calcule e imprima a idade atual."
      ],
      "metadata": {
        "id": "-p0JKZ4JJhhJ"
      }
    },
    {
      "cell_type": "code",
      "source": [
        "# Solicitar o ano de nascimento ao usuário\n",
        "ano_nascimento = int(input(\"Digite o ano de nascimento: \"))\n",
        "ano_atual = 2024  # ou use datetime.datetime.now().year para obter o ano atual dinamicamente\n",
        "\n",
        "# Calcular a idade\n",
        "idade = ano_atual - ano_nascimento\n",
        "\n",
        "# Mostrar a idade\n",
        "print(f\"Você tem {idade} anos.\")\n"
      ],
      "metadata": {
        "colab": {
          "base_uri": "https://localhost:8080/"
        },
        "id": "RDZ6RTSyJym_",
        "outputId": "b234b536-a016-475e-cc37-f604809f2edc"
      },
      "execution_count": 6,
      "outputs": [
        {
          "output_type": "stream",
          "name": "stdout",
          "text": [
            "Digite o ano de nascimento: 1977\n",
            "Você tem 47 anos.\n"
          ]
        }
      ]
    },
    {
      "cell_type": "markdown",
      "source": [
        "**Exercícios - Conceitos básicos de Python: Programa de Conversão de Distância**\n",
        "\n",
        "3. Faça um Programa que peça a quantidade de quilômetros, transforme em metros, centímetros e milímetros."
      ],
      "metadata": {
        "id": "-zi-FdRpJ6Vk"
      }
    },
    {
      "cell_type": "code",
      "source": [
        "# Solicitar a quantidade de quilômetros\n",
        "quilometros = float(input(\"Digite a quantidade de quilômetros: \"))\n",
        "\n",
        "# Converter para metros, centímetros e milímetros\n",
        "metros = quilometros * 1000\n",
        "centimetros = metros * 100\n",
        "milimetros = centimetros * 10\n",
        "\n",
        "# Mostrar os resultados\n",
        "print(f\"{quilometros} km equivalem a {metros} metros, {centimetros} centímetros e {milimetros} milímetros.\")\n"
      ],
      "metadata": {
        "colab": {
          "base_uri": "https://localhost:8080/"
        },
        "id": "w5Hp39TbKNC8",
        "outputId": "9f56c9bf-4e99-4cf4-9858-0f2eaede1fd6"
      },
      "execution_count": 7,
      "outputs": [
        {
          "output_type": "stream",
          "name": "stdout",
          "text": [
            "Digite a quantidade de quilômetros: 300\n",
            "300.0 km equivalem a 300000.0 metros, 30000000.0 centímetros e 300000000.0 milímetros.\n"
          ]
        }
      ]
    },
    {
      "cell_type": "markdown",
      "source": [
        "**Exercícios - Conceitos básicos de Python: Programa de Consumo Médio**\n",
        "\n",
        "4. Receba do usuário a quantidade de litros de combustível consumido se a distância percorrida. Calcule e imprima o consumo médio em km/l.\n"
      ],
      "metadata": {
        "id": "0sjXsFlkKdS7"
      }
    },
    {
      "cell_type": "code",
      "source": [
        "# Solicitar a quantidade de litros de combustível e a distância percorrida\n",
        "litros_consumidos = float(input(\"Digite a quantidade de litros de combustível consumido: \"))\n",
        "distancia_percorrida = float(input(\"Digite a distância percorrida (em km): \"))\n",
        "\n",
        "# Calcular o consumo médio\n",
        "consumo_medio = distancia_percorrida / litros_consumidos if litros_consumidos != 0 else \"Indefinido (divisão por zero)\"\n",
        "\n",
        "# Mostrar o consumo médio\n",
        "print(f\"O consumo médio é de {consumo_medio} km/l.\")\n"
      ],
      "metadata": {
        "colab": {
          "base_uri": "https://localhost:8080/"
        },
        "id": "eWHFdK0nKvQF",
        "outputId": "fdba4ca3-668d-48e7-e866-4d2c174982d0"
      },
      "execution_count": 9,
      "outputs": [
        {
          "output_type": "stream",
          "name": "stdout",
          "text": [
            "Digite a quantidade de litros de combustível consumido: 50\n",
            "Digite a distância percorrida (em km): 20\n",
            "O consumo médio é de 0.4 km/l.\n"
          ]
        }
      ]
    },
    {
      "cell_type": "markdown",
      "source": [
        "**Exercícios - Conceitos básicos de Python: Programa de Calculo de Tempo de Viagem**.\n",
        "5. Escreva um programa que calcule o tempo de uma viagem. Faça um comparativo do mesmo percurso de avião, carro e ônibus. Levando em consideração.\n",
        "\n",
        "*   Avião = 60 km/h\n",
        "*   Carro = 100 km/h\n",
        "*   Ônibus = 80 km/h\n",
        "\n",
        "\n",
        "\n",
        "\n",
        "\n"
      ],
      "metadata": {
        "id": "6RxDemCyLBFl"
      }
    },
    {
      "cell_type": "code",
      "source": [
        "# Solicitar a distância da viagem\n",
        "distancia_viagem = float(input(\"Digite a distância da viagem (em km): \"))\n",
        "\n",
        "# Calcular o tempo de viagem para cada meio de transporte\n",
        "tempo_aviao = distancia_viagem / 600\n",
        "tempo_carro = distancia_viagem / 100\n",
        "tempo_onibus = distancia_viagem / 80\n",
        "\n",
        "# Mostrar os tempos de viagem\n",
        "print(f\"Tempo de viagem de avião: {tempo_aviao:.2f} horas\")\n",
        "print(f\"Tempo de viagem de carro: {tempo_carro:.2f} horas\")\n",
        "print(f\"Tempo de viagem de ônibus: {tempo_onibus:.2f} horas\")\n"
      ],
      "metadata": {
        "colab": {
          "base_uri": "https://localhost:8080/"
        },
        "id": "kCYi78Y7LsC9",
        "outputId": "b5e78875-0210-4d7d-f535-d8bc5fe5231c"
      },
      "execution_count": 10,
      "outputs": [
        {
          "output_type": "stream",
          "name": "stdout",
          "text": [
            "Digite a distância da viagem (em km): 600\n",
            "Tempo de viagem de avião: 1.00 horas\n",
            "Tempo de viagem de carro: 6.00 horas\n",
            "Tempo de viagem de ônibus: 7.50 horas\n"
          ]
        }
      ]
    },
    {
      "cell_type": "markdown",
      "source": [
        "**Exercícios - Conceitos básicos de Python: Programa de Cálculo de IMC**.\n",
        "\n",
        "6. Solicite ao usuário o peso em kg e a altura em metros. Calcule e imprima o Índice de Massa Corporal (IMC) usando a fórmula: IMC = peso / (altura x altura).\n"
      ],
      "metadata": {
        "id": "nUcKwoyiLtUF"
      }
    },
    {
      "cell_type": "code",
      "source": [
        "# Solicitar peso e altura ao usuário\n",
        "peso = float(input(\"Digite o peso (em kg): \"))\n",
        "altura = float(input(\"Digite a altura (em metros), use ponto como separador decimal: \"))\n",
        "\n",
        "# Calcular o IMC\n",
        "imc = peso / (altura ** 2)\n",
        "\n",
        "# Mostrar o IMC\n",
        "print(f\"O seu IMC é {imc:.2f}.\")\n"
      ],
      "metadata": {
        "colab": {
          "base_uri": "https://localhost:8080/"
        },
        "id": "mjxTpvCLMYeF",
        "outputId": "2cb73275-aa9a-41ec-8f9a-781f2796d9a2"
      },
      "execution_count": 17,
      "outputs": [
        {
          "output_type": "stream",
          "name": "stdout",
          "text": [
            "Digite o peso (em kg): 80\n",
            "Digite a altura (em metros), use ponto como separador decimal: 1.68\n",
            "O seu IMC é 28.34.\n"
          ]
        }
      ]
    },
    {
      "cell_type": "markdown",
      "source": [
        "**Exercícios - Conceitos básicos de Python: Programa de Salário**.\n",
        "\n",
        "7. Faça um Programa que pergunte quanto você ganha por hora e o número de horas trabalhadas no mês. Calcule e mostre o total do seu salário no referido mês.\n"
      ],
      "metadata": {
        "id": "wntHedH6L2Ee"
      }
    },
    {
      "cell_type": "code",
      "source": [
        "# Solicitar ganho por hora e número de horas trabalhadas no mês\n",
        "ganho_por_hora = float(input(\"Digite quanto você ganha por hora: \"))\n",
        "horas_trabalhadas = float(input(\"Digite o número de horas trabalhadas no mês: \"))\n",
        "\n",
        "# Calcular o salário\n",
        "salario = ganho_por_hora * horas_trabalhadas\n",
        "\n",
        "# Mostrar o salário\n",
        "print(f\"O seu salário no mês é R$ {salario:.2f}.\")\n"
      ],
      "metadata": {
        "colab": {
          "base_uri": "https://localhost:8080/"
        },
        "id": "7nDqJkR_Mhxz",
        "outputId": "c1bb6d9b-50d7-47de-ba63-18f41003522f"
      },
      "execution_count": 20,
      "outputs": [
        {
          "output_type": "stream",
          "name": "stdout",
          "text": [
            "Digite quanto você ganha por hora: 55\n",
            "Digite o número de horas trabalhadas no mês: 40\n",
            "O seu salário no mês é R$ 2200.00.\n"
          ]
        }
      ]
    },
    {
      "cell_type": "markdown",
      "source": [
        "**Exercícios - Conceitos básicos de Python: Programa de Cálculo de Calorias Queimadas**.\n",
        "\n",
        "8. Solicite ao usuário o número de horas de exercício físico por semana. Calcule o total de calorias queimadas em um mês, considerando uma média de 5 calorias por minuto de exercício.\n"
      ],
      "metadata": {
        "id": "q8MnrV_HL-He"
      }
    },
    {
      "cell_type": "code",
      "source": [
        "# Solicitar o número de horas de exercício físico por semana\n",
        "horas_exercicio_semana = float(input(\"Digite o número de horas de exercício físico por semana: \"))\n",
        "\n",
        "# Calcular o total de calorias queimadas em um mês\n",
        "minutos_exercicio_mes = horas_exercicio_semana * 4 * 60\n",
        "calorias_queimadas_mes = minutos_exercicio_mes * 5\n",
        "\n",
        "# Mostrar as calorias queimadas\n",
        "print(f\"Você queima aproximadamente {calorias_queimadas_mes} calorias em um mês.\")\n"
      ],
      "metadata": {
        "colab": {
          "base_uri": "https://localhost:8080/"
        },
        "id": "dmSdAiPoP_QT",
        "outputId": "eac322f8-4168-4de9-bdb6-2583d17d1ba4"
      },
      "execution_count": 21,
      "outputs": [
        {
          "output_type": "stream",
          "name": "stdout",
          "text": [
            "Digite o número de horas de exercício físico por semana: 2\n",
            "Você queima aproximadamente 2400.0 calorias em um mês.\n"
          ]
        }
      ]
    },
    {
      "cell_type": "markdown",
      "source": [
        "**Exercícios - Conceitos básicos de Python: Programa com Mensagem Amigável**.\n",
        "\n",
        "9. Faça um Programa que utilize 4 variáveis como preferir e no final print uma mensagem amigável utilizando as variáveis criadas. Exemplos de variáveis: nome, idade, lugar, profissão....Exemplo de retorno: Olá Maria, prazer te conhecer. Sou de São Paulo também e estou migrando de área. Lembrando que para o retorno vamos usar print com as variáveis criadas e este texto é somente um exemplo, utilizem a criatividade.\n"
      ],
      "metadata": {
        "id": "W8vIlZsgMKe7"
      }
    },
    {
      "cell_type": "code",
      "source": [
        "# Criar as variáveis\n",
        "nome = input(\"Digite seu nome: \")\n",
        "idade = int(input(\"Digite sua idade: \"))\n",
        "cidade = input(\"Digite sua cidade: \")\n",
        "profissao = input(\"Digite sua profissão: \")\n",
        "\n",
        "# Mostrar a mensagem amigável\n",
        "print(f\"Olá {nome}, prazer te conhecer. Você tem {idade} anos, é de {cidade} e trabalha como {profissao}.\")\n"
      ],
      "metadata": {
        "colab": {
          "base_uri": "https://localhost:8080/"
        },
        "id": "kp3CYRo1M1mi",
        "outputId": "3194208a-8786-43c3-e5cb-d5d93e5b8d81"
      },
      "execution_count": 24,
      "outputs": [
        {
          "output_type": "stream",
          "name": "stdout",
          "text": [
            "Digite seu nome: Alexsa\n",
            "Digite sua idade: 47\n",
            "Digite sua cidade: Recife\n",
            "Digite sua profissão: Analista de Dados\n",
            "Olá Alexsa, prazer te conhecer. Você tem 47 anos, é de Recife e trabalha como Analista de Dados.\n"
          ]
        }
      ]
    }
  ]
}